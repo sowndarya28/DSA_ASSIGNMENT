{
 "cells": [
  {
   "cell_type": "markdown",
   "id": "2cbbcafd",
   "metadata": {},
   "source": [
    "<aside>\n",
    "💡 **Question 1**\n",
    "\n",
    "Given an array **arr[ ]** of size **N** having elements, the task is to find the next greater element for each element of the array in order of their appearance in the array.Next greater element of an element in the array is the nearest element on the right which is greater than the current element.If there does not exist next greater of current element, then next greater element for current element is -1. For example, next greater of the last element is always -1.\n",
    "\n",
    "**Example 1:**\n",
    "\n",
    "</aside>\n",
    "\n",
    "Input:\n",
    "N = 4, arr[] = [1 3 2 4]\n",
    "Output:\n",
    "3 4 4 -1\n",
    "Explanation:\n",
    "In the array, the next larger element\n",
    "to 1 is 3 , 3 is 4 , 2 is 4 and for 4 ?\n",
    "since it doesn't exist, it is -1.\n",
    "\n",
    "Input:\n",
    "N = 5, arr[] [6 8 0 1 3]\n",
    "Output:\n",
    "8 -1 1 3 -1\n",
    "Explanation:\n",
    "In the array, the next larger element to\n",
    "6 is 8, for 8 there is no larger elements\n",
    "hence it is -1, for 0 it is 1 , for 1 it\n",
    "is 3 and then for 3 there is no larger\n",
    "element on right and hence -1."
   ]
  },
  {
   "cell_type": "code",
   "execution_count": 2,
   "id": "ba52fe97",
   "metadata": {},
   "outputs": [
    {
     "name": "stdout",
     "output_type": "stream",
     "text": [
      "[3, 4, 4, -1]\n",
      "[8, -1, 1, 3, -1]\n"
     ]
    }
   ],
   "source": [
    "def find_next_greater_element(arr):\n",
    "    stack = []\n",
    "    output = []\n",
    "\n",
    "    for i in range(len(arr)-1, -1, -1):\n",
    "        while stack and stack[-1] <= arr[i]:\n",
    "            stack.pop()\n",
    "\n",
    "        if not stack:\n",
    "            output.append(-1)\n",
    "        else:\n",
    "            output.append(stack[-1])\n",
    "\n",
    "        stack.append(arr[i])\n",
    "\n",
    "    output.reverse()\n",
    "    return output\n",
    "arr1 = [1, 3, 2, 4]\n",
    "arr2 = [6, 8, 0, 1, 3]\n",
    "\n",
    "print(find_next_greater_element(arr1))\n",
    "print(find_next_greater_element(arr2))\n"
   ]
  },
  {
   "cell_type": "markdown",
   "id": "5dad4de8",
   "metadata": {},
   "source": [
    "<aside>\n",
    "💡 **Question 2**\n",
    "\n",
    "Given an array **a** of integers of length **n**, find the nearest smaller number for every element such that the smaller element is on left side.If no small element present on the left print -1.\n",
    "\n",
    "**Example 1:**\n",
    "\n",
    "</aside>\n",
    "Input: n = 3\n",
    "a = {1, 6, 2}\n",
    "Output: -1 1 1\n",
    "Explaination: There is no number at the\n",
    "left of 1. Smaller number than 6 and 2 is 1.\n",
    "\n",
    "Input: n = 6\n",
    "a = {1, 5, 0, 3, 4, 5}\n",
    "Output: -1 1 -1 0 3 4\n",
    "Explaination: Upto 3 it is easy to see\n",
    "the smaller numbers. But for 4 the smaller\n",
    "numbers are 1, 0 and 3. But among them 3\n",
    "is closest. Similary for 5 it is 4."
   ]
  },
  {
   "cell_type": "code",
   "execution_count": 3,
   "id": "c174068d",
   "metadata": {},
   "outputs": [
    {
     "name": "stdout",
     "output_type": "stream",
     "text": [
      "[-1, 1, 1]\n",
      "[-1, 1, -1, 0, 3, 4]\n"
     ]
    }
   ],
   "source": [
    "def find_nearest_smaller_element(arr):\n",
    "    stack = []\n",
    "    output = []\n",
    "\n",
    "    for i in range(len(arr)):\n",
    "        while stack and stack[-1] >= arr[i]:\n",
    "            stack.pop()\n",
    "\n",
    "        if not stack:\n",
    "            output.append(-1)\n",
    "        else:\n",
    "            output.append(stack[-1])\n",
    "\n",
    "        stack.append(arr[i])\n",
    "\n",
    "    return output\n",
    "arr1 = [1, 6, 2]\n",
    "arr2 = [1, 5, 0, 3, 4, 5]\n",
    "\n",
    "print(find_nearest_smaller_element(arr1))\n",
    "print(find_nearest_smaller_element(arr2))\n"
   ]
  },
  {
   "cell_type": "markdown",
   "id": "9ac67b5b",
   "metadata": {},
   "source": [
    "Implement a Stack using two queues q1 and q2.\n",
    "\n",
    "Input:\n",
    "push(2)\n",
    "push(3)\n",
    "pop()\n",
    "push(4)\n",
    "pop()\n",
    "Output:3 4\n",
    "Explanation:\n",
    "push(2) the stack will be {2}\n",
    "push(3) the stack will be {2 3}\n",
    "pop()   poped element will be 3 the\n",
    "        stack will be {2}\n",
    "push(4) the stack will be {2 4}\n",
    "pop()   poped element will be 4\n",
    "\n",
    "\n",
    "Input:\n",
    "push(2)\n",
    "pop()\n",
    "pop()\n",
    "push(3)\n",
    "Output:2 -1"
   ]
  },
  {
   "cell_type": "code",
   "execution_count": 4,
   "id": "9911d83b",
   "metadata": {},
   "outputs": [
    {
     "name": "stdout",
     "output_type": "stream",
     "text": [
      "3\n",
      "4\n",
      "2\n",
      "-1\n"
     ]
    }
   ],
   "source": [
    "class Stack:\n",
    "    def __init__(self):\n",
    "        self.q1 = []\n",
    "        self.q2 = []\n",
    "\n",
    "    def push(self, x):\n",
    "        self.q1.append(x)\n",
    "\n",
    "    def pop(self):\n",
    "        if not self.q1:\n",
    "            return -1\n",
    "\n",
    "        while len(self.q1) > 1:\n",
    "            self.q2.append(self.q1.pop(0))\n",
    "\n",
    "        popped_element = self.q1.pop(0)\n",
    "\n",
    "        self.q1, self.q2 = self.q2, self.q1\n",
    "\n",
    "        return popped_element\n",
    "\n",
    "    def top(self):\n",
    "        if not self.q1:\n",
    "            return -1\n",
    "\n",
    "        while len(self.q1) > 1:\n",
    "            self.q2.append(self.q1.pop(0))\n",
    "\n",
    "        top_element = self.q1[0]\n",
    "\n",
    "        self.q2.append(self.q1.pop(0))\n",
    "\n",
    "        self.q1, self.q2 = self.q2, self.q1\n",
    "\n",
    "        return top_element\n",
    "\n",
    "    def isEmpty(self):\n",
    "        return len(self.q1) == 0 and len(self.q2) == 0\n",
    "\n",
    "\n",
    "stack = Stack()\n",
    "\n",
    "stack.push(2)\n",
    "stack.push(3)\n",
    "print(stack.pop())  # Output: 3\n",
    "stack.push(4)\n",
    "print(stack.pop())  # Output: 4\n",
    "\n",
    "stack2 = Stack()\n",
    "\n",
    "stack2.push(2)\n",
    "print(stack2.pop())  # Output: 2\n",
    "print(stack2.pop())  # Output: -1\n"
   ]
  },
  {
   "cell_type": "markdown",
   "id": "6e73da7d",
   "metadata": {},
   "source": [
    "<aside>\n",
    "💡 **Question 4**\n",
    "\n",
    "You are given a stack **St**. You have to reverse the stack using recursion.\n",
    "\n",
    "</aside>\n",
    "Input:St = {3,2,1,7,6}\n",
    "Output:{6,7,1,2,3}\n",
    "\n",
    "Input:St = {4,3,9,6}\n",
    "Output:{6,9,3,4}\n"
   ]
  },
  {
   "cell_type": "code",
   "execution_count": 5,
   "id": "276570cb",
   "metadata": {},
   "outputs": [
    {
     "name": "stdout",
     "output_type": "stream",
     "text": [
      "[6, 7, 1, 2, 3]\n",
      "[6, 9, 3, 4]\n"
     ]
    }
   ],
   "source": [
    "def reverseStack(St):\n",
    "    if len(St) <= 1:\n",
    "        return\n",
    "\n",
    "    topElement = St.pop()\n",
    "\n",
    "    reverseStack(St)\n",
    "\n",
    "    insertAtBottom(St, topElement)\n",
    "\n",
    "\n",
    "def insertAtBottom(St, element):\n",
    "    if len(St) == 0:\n",
    "        St.append(element)\n",
    "        return\n",
    "\n",
    "    temp = St.pop()\n",
    "    insertAtBottom(St, element)\n",
    "    St.append(temp)\n",
    "\n",
    "stack1 = [3, 2, 1, 7, 6]\n",
    "reverseStack(stack1)\n",
    "print(stack1)  # Output: [6, 7, 1, 2, 3]\n",
    "\n",
    "stack2 = [4, 3, 9, 6]\n",
    "reverseStack(stack2)\n",
    "print(stack2)  # Output: [6, 9, 3, 4]\n"
   ]
  },
  {
   "cell_type": "markdown",
   "id": "8b0004d1",
   "metadata": {},
   "source": [
    "<aside>\n",
    "💡 **Question 5**\n",
    "\n",
    "You are given a string **S**, the task is to reverse the string using stack.\n",
    "\n",
    "**Example 1:**\n",
    "\n",
    "</aside>\n",
    "\n",
    "Input: S=\"GeeksforGeeks\"\n",
    "Output: skeeGrofskeeG"
   ]
  },
  {
   "cell_type": "code",
   "execution_count": 6,
   "id": "dda44ed1",
   "metadata": {},
   "outputs": [
    {
     "name": "stdout",
     "output_type": "stream",
     "text": [
      "skeeGrofskeeG\n"
     ]
    }
   ],
   "source": [
    "def reverseString(S):\n",
    "    stack = []\n",
    "    reversed_string = \"\"\n",
    "\n",
    "    for char in S:\n",
    "        stack.append(char)\n",
    "\n",
    "    while stack:\n",
    "        reversed_string += stack.pop()\n",
    "\n",
    "    return reversed_string\n",
    "input_string = \"GeeksforGeeks\"\n",
    "output = reverseString(input_string)\n",
    "print(output)  # Output: skeeGrofskeeG\n"
   ]
  },
  {
   "cell_type": "markdown",
   "id": "5534821b",
   "metadata": {},
   "source": [
    "<aside>\n",
    "💡 **Question 6**\n",
    "\n",
    "Given string **S** representing a postfix expression, the task is to evaluate the expression and find the final value. Operators will only include the basic arithmetic operators like ***, /, + and -**.\n",
    "\n",
    "</aside>\n",
    "\n",
    "Input: S = \"231*+9-\"\n",
    "Output: -4\n",
    "Explanation:\n",
    "After solving the given expression,\n",
    "we have -4 as result.\n",
    "\n",
    "Input: S = \"123+*8-\"\n",
    "Output: -3\n",
    "Explanation:\n",
    "After solving the given postfix\n",
    "expression, we have -3 as result."
   ]
  },
  {
   "cell_type": "code",
   "execution_count": 7,
   "id": "ae70bdb6",
   "metadata": {},
   "outputs": [
    {
     "name": "stdout",
     "output_type": "stream",
     "text": [
      "-4\n",
      "-3\n"
     ]
    }
   ],
   "source": [
    "def evaluatePostfixExpression(S):\n",
    "    stack = []\n",
    "\n",
    "    for char in S:\n",
    "        if char.isdigit():\n",
    "            stack.append(int(char))\n",
    "        else:\n",
    "            operand2 = stack.pop()\n",
    "            operand1 = stack.pop()\n",
    "\n",
    "            if char == '+':\n",
    "                result = operand1 + operand2\n",
    "            elif char == '-':\n",
    "                result = operand1 - operand2\n",
    "            elif char == '*':\n",
    "                result = operand1 * operand2\n",
    "            elif char == '/':\n",
    "                result = operand1 / operand2\n",
    "\n",
    "            stack.append(result)\n",
    "\n",
    "    return stack[-1]\n",
    "expression1 = \"231*+9-\"\n",
    "expression2 = \"123+*8-\"\n",
    "\n",
    "print(evaluatePostfixExpression(expression1))  # Output: -4\n",
    "print(evaluatePostfixExpression(expression2))  # Output: -3\n"
   ]
  },
  {
   "cell_type": "markdown",
   "id": "a9946e2c",
   "metadata": {},
   "source": [
    "<aside>\n",
    "💡 **Question 7**\n",
    "\n",
    "Design a stack that supports push, pop, top, and retrieving the minimum element in constant time.\n",
    "\n",
    "Implement the `MinStack` class:\n",
    "\n",
    "- `MinStack()` initializes the stack object.\n",
    "- `void push(int val)` pushes the element `val` onto the stack.\n",
    "- `void pop()` removes the element on the top of the stack.\n",
    "- `int top()` gets the top element of the stack.\n",
    "- `int getMin()` retrieves the minimum element in the stack.\n",
    "\n",
    "You must implement a solution with `O(1)` time complexity for each function.\n",
    "\n",
    "</aside>\n",
    "\n",
    "Input\n",
    "[\"MinStack\",\"push\",\"push\",\"push\",\"getMin\",\"pop\",\"top\",\"getMin\"]\n",
    "[[],[-2],[0],[-3],[],[],[],[]]\n",
    "\n",
    "Output\n",
    "[null,null,null,null,-3,null,0,-2]\n",
    "\n",
    "Explanation\n",
    "MinStack minStack = new MinStack();\n",
    "minStack.push(-2);\n",
    "minStack.push(0);\n",
    "minStack.push(-3);\n",
    "minStack.getMin(); // return -3\n",
    "minStack.pop();\n",
    "minStack.top();    // return 0\n",
    "minStack.getMin(); // return -2"
   ]
  },
  {
   "cell_type": "code",
   "execution_count": 8,
   "id": "c6c415ae",
   "metadata": {},
   "outputs": [
    {
     "name": "stdout",
     "output_type": "stream",
     "text": [
      "-3\n",
      "0\n",
      "-2\n"
     ]
    }
   ],
   "source": [
    "class MinStack:\n",
    "    def __init__(self):\n",
    "        self.dataStack = []\n",
    "        self.minStack = []\n",
    "\n",
    "    def push(self, val):\n",
    "        self.dataStack.append(val)\n",
    "        if not self.minStack or val <= self.minStack[-1]:\n",
    "            self.minStack.append(val)\n",
    "\n",
    "    def pop(self):\n",
    "        if self.dataStack[-1] == self.minStack[-1]:\n",
    "            self.minStack.pop()\n",
    "        self.dataStack.pop()\n",
    "\n",
    "    def top(self):\n",
    "        return self.dataStack[-1]\n",
    "\n",
    "    def getMin(self):\n",
    "        return self.minStack[-1]\n",
    "minStack = MinStack()\n",
    "minStack.push(-2)\n",
    "minStack.push(0)\n",
    "minStack.push(-3)\n",
    "print(minStack.getMin())  # Output: -3\n",
    "minStack.pop()\n",
    "print(minStack.top())     # Output: 0\n",
    "print(minStack.getMin())  # Output: -2\n"
   ]
  },
  {
   "cell_type": "markdown",
   "id": "92eaeb2d",
   "metadata": {},
   "source": [
    "<aside>\n",
    "💡 **Question 8**\n",
    "\n",
    "Given `n` non-negative integers representing an elevation map where the width of each bar is `1`, compute how much water it can trap after raining.\n",
    "\n",
    "**Example 1:**\n",
    "\n",
    "</aside>\n",
    "\n",
    "Input: height = [0,1,0,2,1,0,1,3,2,1,2,1]\n",
    "Output: 6\n",
    "Explanation: The above elevation map (black section) is represented by array [0,1,0,2,1,0,1,3,2,1,2,1]. In this case, 6 units of rain water (blue section) are being trapped.\n",
    "\n",
    "Input: height = [4,2,0,3,2,5]\n",
    "Output: 9\n"
   ]
  },
  {
   "cell_type": "code",
   "execution_count": 9,
   "id": "3ddc693b",
   "metadata": {},
   "outputs": [
    {
     "name": "stdout",
     "output_type": "stream",
     "text": [
      "6\n",
      "9\n"
     ]
    }
   ],
   "source": [
    "def trapWater(height):\n",
    "    left = 0\n",
    "    right = len(height) - 1\n",
    "    leftMax = 0\n",
    "    rightMax = 0\n",
    "    water = 0\n",
    "\n",
    "    while left <= right:\n",
    "        if height[left] <= height[right]:\n",
    "            if height[left] > leftMax:\n",
    "                leftMax = height[left]\n",
    "            else:\n",
    "                water += leftMax - height[left]\n",
    "            left += 1\n",
    "        else:\n",
    "            if height[right] > rightMax:\n",
    "                rightMax = height[right]\n",
    "            else:\n",
    "                water += rightMax - height[right]\n",
    "            right -= 1\n",
    "\n",
    "    return water\n",
    "\n",
    "elevationMap1 = [0, 1, 0, 2, 1, 0, 1, 3, 2, 1, 2, 1]\n",
    "elevationMap2 = [4, 2, 0, 3, 2, 5]\n",
    "\n",
    "print(trapWater(elevationMap1))  # Output: 6\n",
    "print(trapWater(elevationMap2))  # Output: 9\n",
    "\n",
    "\n"
   ]
  },
  {
   "cell_type": "code",
   "execution_count": null,
   "id": "90536229",
   "metadata": {},
   "outputs": [],
   "source": []
  }
 ],
 "metadata": {
  "kernelspec": {
   "display_name": "Python 3 (ipykernel)",
   "language": "python",
   "name": "python3"
  },
  "language_info": {
   "codemirror_mode": {
    "name": "ipython",
    "version": 3
   },
   "file_extension": ".py",
   "mimetype": "text/x-python",
   "name": "python",
   "nbconvert_exporter": "python",
   "pygments_lexer": "ipython3",
   "version": "3.10.9"
  }
 },
 "nbformat": 4,
 "nbformat_minor": 5
}
