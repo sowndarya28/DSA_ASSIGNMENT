{
 "cells": [
  {
   "cell_type": "markdown",
   "id": "0f61d075",
   "metadata": {},
   "source": [
    "ASSIGNMENT 8 RECURSION"
   ]
  },
  {
   "cell_type": "markdown",
   "id": "31e340b8",
   "metadata": {},
   "source": [
    "Given an integer `n`, return *`true` if it is a power of two. Otherwise, return `false`*.\n",
    "\n",
    "An integer `n` is a power of two, if there exists an integer `x` such that `n == 2x`.\n",
    "\n",
    "**Example 1:**\n",
    "Input: n = 1 \n",
    "\n",
    "Output: true\n",
    "\n",
    "**Example 2:**\n",
    "Input: n = 16 \n",
    "\n",
    "Output: true\n",
    "\n",
    "**Example 3:**\n",
    "Input: n = 3 \n",
    "\n",
    "Output: false"
   ]
  },
  {
   "cell_type": "code",
   "execution_count": 1,
   "id": "05761d3b",
   "metadata": {},
   "outputs": [
    {
     "data": {
      "text/plain": [
       "False"
      ]
     },
     "execution_count": 1,
     "metadata": {},
     "output_type": "execute_result"
    }
   ],
   "source": [
    "def isPowerOfTwo(n):\n",
    "        if(n<=0):\n",
    "            return False\n",
    "        if(n==1):\n",
    "            return True\n",
    "        return isPowerOfTwo(n/2)\n",
    "isPowerOfTwo(9)     "
   ]
  },
  {
   "cell_type": "markdown",
   "id": "f5a39ce1",
   "metadata": {},
   "source": [
    "Given a number n, find the sum of the first natural numbers.\n",
    "\n",
    "**Example 1:**\n",
    "\n",
    "Input: n = 3 \n",
    "\n",
    "Output: 6\n",
    "\n",
    "**Example 2:**\n",
    "\n",
    "Input  : 5 \n",
    "\n",
    "Output : 15"
   ]
  },
  {
   "cell_type": "code",
   "execution_count": 2,
   "id": "19fa15af",
   "metadata": {},
   "outputs": [
    {
     "data": {
      "text/plain": [
       "6"
      ]
     },
     "execution_count": 2,
     "metadata": {},
     "output_type": "execute_result"
    }
   ],
   "source": [
    "def first_sum(n):\n",
    "    if(n==1):\n",
    "        return 1\n",
    "    return n+first_sum(n-1)\n",
    "first_sum(3)"
   ]
  },
  {
   "cell_type": "markdown",
   "id": "49261c41",
   "metadata": {},
   "source": [
    "<aside>\n",
    "💡 **Question 3**\n",
    "\n",
    "****Given a positive integer, N. Find the factorial of N. \n",
    "\n",
    "**Example 1:**\n",
    "\n",
    "Input: N = 5 \n",
    "\n",
    "Output: 120\n",
    "\n",
    "**Example 2:**\n",
    "\n",
    "Input: N = 4\n",
    "\n",
    "Output: 24\n",
    "\n",
    "</aside>"
   ]
  },
  {
   "cell_type": "code",
   "execution_count": 3,
   "id": "23b39e3a",
   "metadata": {},
   "outputs": [
    {
     "data": {
      "text/plain": [
       "120"
      ]
     },
     "execution_count": 3,
     "metadata": {},
     "output_type": "execute_result"
    }
   ],
   "source": [
    "def fact(n):\n",
    "    if(n==1):\n",
    "        return 1\n",
    "    return n*fact(n-1)\n",
    "fact(5)"
   ]
  },
  {
   "cell_type": "markdown",
   "id": "2c18d99a",
   "metadata": {},
   "source": [
    "Given a number N and a power P, the task is to find the exponent of this number raised to the given power, i.e. N^P.\n",
    "\n",
    "**Example 1 :** \n",
    "\n",
    "Input: N = 5, P = 2\n",
    "\n",
    "Output: 25\n",
    "\n",
    "**Example 2 :**\n",
    "Input: N = 2, P = 5\n",
    "\n",
    "Output: 32"
   ]
  },
  {
   "cell_type": "code",
   "execution_count": 4,
   "id": "147db109",
   "metadata": {},
   "outputs": [
    {
     "data": {
      "text/plain": [
       "25"
      ]
     },
     "execution_count": 4,
     "metadata": {},
     "output_type": "execute_result"
    }
   ],
   "source": [
    "def power(p,n):\n",
    "    if(p==0):\n",
    "        return 1\n",
    "    return n*power(p-1,n)\n",
    "power(2,5)"
   ]
  },
  {
   "cell_type": "markdown",
   "id": "424ffbcf",
   "metadata": {},
   "source": [
    "Given an array of integers **arr**, the task is to find maximum element of that array using recursion.\n",
    "\n",
    "**Example 1:**\n",
    "\n",
    "Input: arr = {1, 4, 3, -5, -4, 8, 6};\n",
    "Output: 8\n",
    "\n",
    "**Example 2:**\n",
    "\n",
    "Input: arr = {1, 4, 45, 6, 10, -8};\n",
    "Output: 45"
   ]
  },
  {
   "cell_type": "code",
   "execution_count": 1,
   "id": "7b9d90ee",
   "metadata": {},
   "outputs": [
    {
     "name": "stdout",
     "output_type": "stream",
     "text": [
      "Maximum element: 8\n",
      "Maximum element: 45\n"
     ]
    }
   ],
   "source": [
    "def find_max(arr):\n",
    "    if len(arr) == 1:\n",
    "        return arr[0]\n",
    "    else:\n",
    "        mid = len(arr) // 2\n",
    "        left_max = find_max(arr[:mid])\n",
    "        right_max = find_max(arr[mid:])\n",
    "        return max(left_max, right_max)\n",
    "\n",
    "# Example usage\n",
    "arr1 = [1, 4, 3, -5, -4, 8, 6]\n",
    "max1 = find_max(arr1)\n",
    "print(\"Maximum element:\", max1)\n",
    "\n",
    "arr2 = [1, 4, 45, 6, 10, -8]\n",
    "max2 = find_max(arr2)\n",
    "print(\"Maximum element:\", max2)\n",
    "   "
   ]
  },
  {
   "cell_type": "markdown",
   "id": "e693e640",
   "metadata": {},
   "source": [
    "<aside>\n",
    "💡 **Question 6**\n",
    "\n",
    "Given first term (a), common difference (d) and a integer N of the Arithmetic Progression series, the task is to find Nth term of the series.\n",
    "\n",
    "**Example 1:**\n",
    "\n",
    "Input : a = 2 d = 1 N = 5\n",
    "Output : 6\n",
    "The 5th term of the series is : 6\n",
    "\n",
    "**Example 2:**\n",
    "\n",
    "Input : a = 5 d = 2 N = 10\n",
    "Output : 23\n",
    "The 10th term of the series is : 23\n",
    "\n",
    "</aside>"
   ]
  },
  {
   "cell_type": "code",
   "execution_count": 6,
   "id": "fa3c186b",
   "metadata": {},
   "outputs": [
    {
     "name": "stdout",
     "output_type": "stream",
     "text": [
      "The 5 term of the series is: 6\n",
      "The 10 term of the series is: 23\n"
     ]
    }
   ],
   "source": [
    "def find_nth_term(a, d, N):\n",
    "    if N == 1:\n",
    "        return a\n",
    "    else:\n",
    "        return find_nth_term(a, d, N - 1) + d\n",
    "\n",
    "# Example usage\n",
    "a1 = 2\n",
    "d1 = 1\n",
    "N1 = 5\n",
    "nth_term1 = find_nth_term(a1, d1, N1)\n",
    "print(\"The\", N1, \"term of the series is:\", nth_term1)\n",
    "\n",
    "a2 = 5\n",
    "d2 = 2\n",
    "N2 = 10\n",
    "nth_term2 = find_nth_term(a2, d2, N2)\n",
    "print(\"The\", N2, \"term of the series is:\", nth_term2)\n"
   ]
  },
  {
   "cell_type": "markdown",
   "id": "25902e7e",
   "metadata": {},
   "source": [
    "<aside>\n",
    "💡 **Question 7**\n",
    "\n",
    "Given a string S, the task is to write a program to print all permutations of a given string.\n",
    "\n",
    "**Example 1:**\n",
    "\n",
    "***Input:***\n",
    "\n",
    "*S = “ABC”*\n",
    "\n",
    "***Output:***\n",
    "\n",
    "*“ABC”, “ACB”, “BAC”, “BCA”, “CBA”, “CAB”*\n",
    "\n",
    "**Example 2:**\n",
    "\n",
    "***Input:***\n",
    "\n",
    "*S = “XY”*\n",
    "\n",
    "***Output:***\n",
    "\n",
    "*“XY”, “YX”*\n",
    "\n",
    "</aside>"
   ]
  },
  {
   "cell_type": "code",
   "execution_count": 7,
   "id": "963f6a78",
   "metadata": {},
   "outputs": [
    {
     "name": "stdout",
     "output_type": "stream",
     "text": [
      "ABC\n",
      "ACB\n",
      "BAC\n",
      "BCA\n",
      "CAB\n",
      "CBA\n",
      "XY\n",
      "YX\n"
     ]
    }
   ],
   "source": [
    "def permute(s, prefix, remaining):\n",
    "    if len(remaining) == 0:\n",
    "        print(prefix)\n",
    "    else:\n",
    "        for char in remaining:\n",
    "            new_prefix = prefix + char\n",
    "            new_remaining = remaining.replace(char, '', 1)\n",
    "            permute(s, new_prefix, new_remaining)\n",
    "            new_remaining = char + new_remaining\n",
    "\n",
    "# Example usage\n",
    "S1 = \"ABC\"\n",
    "permute(S1, \"\", S1)\n",
    "\n",
    "S2 = \"XY\"\n",
    "permute(S2, \"\", S2)\n"
   ]
  },
  {
   "cell_type": "markdown",
   "id": "0493f169",
   "metadata": {},
   "source": [
    "<aside>\n",
    "💡 **Question 8**\n",
    "\n",
    "Given an array, find a product of all array elements.\n",
    "\n",
    "**Example 1:**\n",
    "\n",
    "Input  : arr[] = {1, 2, 3, 4, 5}\n",
    "Output : 120\n",
    "**Example 2:**\n",
    "\n",
    "Input  : arr[] = {1, 6, 3}\n",
    "Output : 18\n",
    "\n",
    "</aside>"
   ]
  },
  {
   "cell_type": "code",
   "execution_count": 8,
   "id": "872ccd90",
   "metadata": {},
   "outputs": [
    {
     "name": "stdout",
     "output_type": "stream",
     "text": [
      "Product: 120\n",
      "Product: 18\n"
     ]
    }
   ],
   "source": [
    "def find_product(arr, i):\n",
    "    if i == len(arr):\n",
    "        return 1\n",
    "    else:\n",
    "        return arr[i] * find_product(arr, i + 1)\n",
    "\n",
    "# Example usage\n",
    "arr1 = [1, 2, 3, 4, 5]\n",
    "product1 = find_product(arr1, 0)\n",
    "print(\"Product:\", product1)\n",
    "\n",
    "arr2 = [1, 6, 3]\n",
    "product2 = find_product(arr2, 0)\n",
    "print(\"Product:\", product2)\n"
   ]
  },
  {
   "cell_type": "code",
   "execution_count": null,
   "id": "00f06836",
   "metadata": {},
   "outputs": [],
   "source": []
  }
 ],
 "metadata": {
  "kernelspec": {
   "display_name": "Python 3 (ipykernel)",
   "language": "python",
   "name": "python3"
  },
  "language_info": {
   "codemirror_mode": {
    "name": "ipython",
    "version": 3
   },
   "file_extension": ".py",
   "mimetype": "text/x-python",
   "name": "python",
   "nbconvert_exporter": "python",
   "pygments_lexer": "ipython3",
   "version": "3.10.9"
  }
 },
 "nbformat": 4,
 "nbformat_minor": 5
}
