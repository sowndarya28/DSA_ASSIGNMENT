{
 "cells": [
  {
   "cell_type": "markdown",
   "id": "8bada95f-e435-4fe1-bcd1-d2c6cca6e887",
   "metadata": {},
   "source": [
    "Given a string s, find the first non-repeating character in it and return its index. If it does not exist, return -1."
   ]
  },
  {
   "cell_type": "markdown",
   "id": "9c5789bf-e5fa-407c-afdd-ea14e26c59b8",
   "metadata": {},
   "source": [
    "Input: s = \"leetcode\"\n",
    "Output: 0\n",
    "\n",
    "\n",
    "Input: s = \"loveleetcode\"\n",
    "Output: 2\n",
    "\n",
    "Input: s = \"aabb\"\n",
    "Output: -1"
   ]
  },
  {
   "cell_type": "code",
   "execution_count": 1,
   "id": "f8030acc-8c01-4f11-84b9-a3d4d15ec974",
   "metadata": {},
   "outputs": [],
   "source": [
    "def firstUniqChar(s):\n",
    "    char_freq = {}\n",
    "\n",
    "    # Count the frequency of each character\n",
    "    for char in s:\n",
    "        char_freq[char] = char_freq.get(char, 0) + 1\n",
    "\n",
    "    # Find the index of the first non-repeating character\n",
    "    for i, char in enumerate(s):\n",
    "        if char_freq[char] == 1:\n",
    "            return i\n",
    "\n",
    "    return -1\n"
   ]
  },
  {
   "cell_type": "code",
   "execution_count": 2,
   "id": "6e0f4f32-019d-454b-951f-5e39c674f86b",
   "metadata": {},
   "outputs": [
    {
     "name": "stdout",
     "output_type": "stream",
     "text": [
      "0\n",
      "2\n",
      "-1\n"
     ]
    }
   ],
   "source": [
    "s1 = \"leetcode\"\n",
    "print(firstUniqChar(s1))  # Output: 0\n",
    "\n",
    "s2 = \"loveleetcode\"\n",
    "print(firstUniqChar(s2))  # Output: 2\n",
    "\n",
    "s3 = \"aabb\"\n",
    "print(firstUniqChar(s3))  # Output: -1\n"
   ]
  },
  {
   "cell_type": "markdown",
   "id": "9df38660-5101-4a9e-b370-5f71956fc038",
   "metadata": {},
   "source": [
    "<aside>\n",
    "💡 **Question 2**\n",
    "\n",
    "Given a **circular integer array** `nums` of length `n`, return *the maximum possible sum of a non-empty **subarray** of* `nums`.\n",
    "\n",
    "A **circular array** means the end of the array connects to the beginning of the array. Formally, the next element of `nums[i]` is `nums[(i + 1) % n]` and the previous element of `nums[i]` is `nums[(i - 1 + n) % n]`.\n",
    "\n",
    "A **subarray** may only include each element of the fixed buffer `nums` at most once. Formally, for a subarray `nums[i], nums[i + 1], ..., nums[j]`, there does not exist `i <= k1`, `k2 <= j` with `k1 % n == k2 % n`.\n",
    "\n",
    "    \n",
    "Input: nums = [1,-2,3,-2]\n",
    "Output: 3\n",
    "Explanation: Subarray [3] has maximum sum 3.\n",
    "    \n",
    "    \n",
    "Input: nums = [5,-3,5]\n",
    "Output: 10\n",
    "Explanation: Subarray [5,5] has maximum sum 5 + 5 = 10.\n",
    "    \n",
    "\n",
    "Input: nums = [5,-3,5]\n",
    "Output: 10\n",
    "Explanation: Subarray [5,5] has maximum sum 5 + 5 = 10.\n",
    "</aside>"
   ]
  },
  {
   "cell_type": "code",
   "execution_count": 4,
   "id": "612fdd82-d8d2-43d3-aa40-e59db6fbb24c",
   "metadata": {},
   "outputs": [
    {
     "name": "stdout",
     "output_type": "stream",
     "text": [
      "3\n",
      "10\n"
     ]
    }
   ],
   "source": [
    "def maxSubarraySumCircular(nums):\n",
    "    n = len(nums)\n",
    "    if n == 1:\n",
    "        return nums[0]\n",
    "\n",
    "    def kadane(arr):\n",
    "        max_sum = float('-inf')\n",
    "        current_sum = 0\n",
    "        for num in arr:\n",
    "            current_sum = max(num, current_sum + num)\n",
    "            max_sum = max(max_sum, current_sum)\n",
    "        return max_sum\n",
    "\n",
    "    max_sum_non_circular = kadane(nums)\n",
    "    total_sum = sum(nums)\n",
    "\n",
    "    # Find the maximum sum involving wrapping around\n",
    "    for i in range(n):\n",
    "        nums[i] = -nums[i]  # Change the signs of each element\n",
    "    max_sum_circular = total_sum + kadane(nums)\n",
    "    \n",
    "    if max_sum_circular == 0:\n",
    "        return max_sum_non_circular\n",
    "\n",
    "    return max(max_sum_non_circular, max_sum_circular)\n",
    "\n",
    "nums1 = [1, -2, 3, -2]\n",
    "print(maxSubarraySumCircular(nums1))  # Output: 3\n",
    "\n",
    "nums2 = [5, -3, 5]\n",
    "print(maxSubarraySumCircular(nums2))  # Output: 10\n",
    "\n"
   ]
  },
  {
   "cell_type": "markdown",
   "id": "60338efd-05a7-4a29-9bb0-0c7ca7f6fc11",
   "metadata": {},
   "source": [
    "<aside>\n",
    "💡 **Question 3**\n",
    "\n",
    "The school cafeteria offers circular and square sandwiches at lunch break, referred to by numbers `0` and `1` respectively. All students stand in a queue. Each student either prefers square or circular sandwiches.\n",
    "\n",
    "The number of sandwiches in the cafeteria is equal to the number of students. The sandwiches are placed in a **stack**. At each step:\n",
    "\n",
    "- If the student at the front of the queue **prefers** the sandwich on the top of the stack, they will **take it** and leave the queue.\n",
    "- Otherwise, they will **leave it** and go to the queue's end.\n",
    "\n",
    "This continues until none of the queue students want to take the top sandwich and are thus unable to eat.\n",
    "\n",
    "You are given two integer arrays `students` and `sandwiches` where `sandwiches[i]` is the type of the `ith` sandwich in the stack (`i = 0` is the top of the stack) and `students[j]` is the preference of the `jth` student in the initial queue (`j = 0` is the front of the queue). Return *the number of students that are unable to eat.*\n",
    "    \n",
    "Input: students = [1,1,0,0], sandwiches = [0,1,0,1]\n",
    "Output: 0\n",
    "Explanation:\n",
    "- Front student leaves the top sandwich and returns to the end of the line making students = [1,0,0,1].\n",
    "- Front student leaves the top sandwich and returns to the end of the line making students = [0,0,1,1].\n",
    "- Front student takes the top sandwich and leaves the line making students = [0,1,1] and sandwiches = [1,0,1].\n",
    "- Front student leaves the top sandwich and returns to the end of the line making students = [1,1,0].\n",
    "- Front student takes the top sandwich and leaves the line making students = [1,0] and sandwiches = [0,1].\n",
    "- Front student leaves the top sandwich and returns to the end of the line making students = [0,1].\n",
    "- Front student takes the top sandwich and leaves the line making students = [1] and sandwiches = [1].\n",
    "- Front student takes the top sandwich and leaves the line making students = [] and sandwiches = [].\n",
    "Hence all students are able to eat.\n",
    "\n",
    "    \n",
    "Input: students = [1,1,1,0,0,1], sandwiches = [1,0,0,0,1,1]\n",
    "Output: 3\n",
    "\n",
    "</aside>"
   ]
  },
  {
   "cell_type": "markdown",
   "id": "cf2b4cef-e6cf-4300-92b4-62177b4f5c60",
   "metadata": {},
   "source": [
    "<aside>\n",
    "💡 **Question 4**\n",
    "\n",
    "You have a `RecentCounter` class which counts the number of recent requests within a certain time frame.\n",
    "\n",
    "Implement the `RecentCounter` class:\n",
    "\n",
    "- `RecentCounter()` Initializes the counter with zero recent requests.\n",
    "- `int ping(int t)` Adds a new request at time `t`, where `t` represents some time in milliseconds, and returns the number of requests that has happened in the past `3000` milliseconds (including the new request). Specifically, return the number of requests that have happened in the inclusive range `[t - 3000, t]`.\n",
    "\n",
    "It is **guaranteed** that every call to `ping` uses a strictly larger value of `t` than the previous call.\n",
    "\n",
    "Input\n",
    "[\"RecentCounter\", \"ping\", \"ping\", \"ping\", \"ping\"]\n",
    "[[], [1], [100], [3001], [3002]]\n",
    "Output\n",
    "[null, 1, 2, 3, 3]\n",
    "\n",
    "Explanation\n",
    "RecentCounter recentCounter = new RecentCounter();\n",
    "recentCounter.ping(1);     // requests = [1], range is [-2999,1], return 1\n",
    "recentCounter.ping(100);   // requests = [1,100], range is [-2900,100], return 2\n",
    "recentCounter.ping(3001);  // requests = [1,100,3001], range is [1,3001], return 3\n",
    "recentCounter.ping(3002);  // requests = [1,100,3001,3002], range is [2,3002], return 3\n",
    "</aside>"
   ]
  },
  {
   "cell_type": "code",
   "execution_count": 5,
   "id": "ff1cc1a0-b203-45b0-a6b7-a92eb3395697",
   "metadata": {},
   "outputs": [
    {
     "name": "stdout",
     "output_type": "stream",
     "text": [
      "1\n",
      "2\n",
      "3\n",
      "3\n"
     ]
    }
   ],
   "source": [
    "from collections import deque\n",
    "\n",
    "class RecentCounter:\n",
    "    def __init__(self):\n",
    "        self.requests = deque()\n",
    "\n",
    "    def ping(self, t: int) -> int:\n",
    "        self.requests.append(t)\n",
    "        while self.requests[0] < t - 3000:\n",
    "            self.requests.popleft()\n",
    "        return len(self.requests)\n",
    "recentCounter = RecentCounter()\n",
    "print(recentCounter.ping(1))    # Output: 1\n",
    "print(recentCounter.ping(100))  # Output: 2\n",
    "print(recentCounter.ping(3001)) # Output: 3\n",
    "print(recentCounter.ping(3002)) # Output: 3\n"
   ]
  },
  {
   "cell_type": "markdown",
   "id": "36f142ed-9817-4305-b686-b5c92024f226",
   "metadata": {},
   "source": [
    "<aside>\n",
    "💡 **Question 5**\n",
    "\n",
    "There are `n` friends that are playing a game. The friends are sitting in a circle and are numbered from `1` to `n` in **clockwise order**. More formally, moving clockwise from the `ith` friend brings you to the `(i+1)th` friend for `1 <= i < n`, and moving clockwise from the `nth` friend brings you to the `1st` friend.\n",
    "\n",
    "The rules of the game are as follows:\n",
    "\n",
    "1. **Start** at the `1st` friend.\n",
    "2. Count the next `k` friends in the clockwise direction **including** the friend you started at. The counting wraps around the circle and may count some friends more than once.\n",
    "3. The last friend you counted leaves the circle and loses the game.\n",
    "4. If there is still more than one friend in the circle, go back to step `2` **starting** from the friend **immediately clockwise** of the friend who just lost and repeat.\n",
    "5. Else, the last friend in the circle wins the game.\n",
    "\n",
    "Given the number of friends, `n`, and an integer `k`, return *the winner of the game*.\n",
    "\n",
    "**Example 1:**\n",
    "\n",
    "Input: n = 5, k = 2\n",
    "Output: 3\n",
    "Explanation: Here are the steps of the game:\n",
    "1) Start at friend 1.\n",
    "2) Count 2 friends clockwise, which are friends 1 and 2.\n",
    "3) Friend 2 leaves the circle. Next start is friend 3.\n",
    "4) Count 2 friends clockwise, which are friends 3 and 4.\n",
    "5) Friend 4 leaves the circle. Next start is friend 5.\n",
    "6) Count 2 friends clockwise, which are friends 5 and 1.\n",
    "7) Friend 1 leaves the circle. Next start is friend 3.\n",
    "8) Count 2 friends clockwise, which are friends 3 and 5.\n",
    "9) Friend 5 leaves the circle. Only friend 3 is left, so they are the winner.\n",
    "\n",
    "Input: n = 6, k = 5\n",
    "Output: 1\n",
    "Explanation: The friends leave in this order: 5, 4, 6, 2, 3. The winner is friend 1.\n",
    "</aside>"
   ]
  },
  {
   "cell_type": "code",
   "execution_count": 8,
   "id": "9b2e0c3d-0d3a-4660-868d-5d1a89708d15",
   "metadata": {},
   "outputs": [
    {
     "name": "stdout",
     "output_type": "stream",
     "text": [
      "3\n",
      "1\n"
     ]
    }
   ],
   "source": [
    "def findTheWinner(n: int, k: int) -> int:\n",
    "    friends = list(range(1, n+1))\n",
    "    current = 0\n",
    "\n",
    "    while len(friends) > 1:\n",
    "        current = (current + k - 1) % len(friends)\n",
    "        friends.pop(current)\n",
    "\n",
    "    return friends[0]\n",
    "print(findTheWinner(5, 2))  # Output: 3\n",
    "print(findTheWinner(6, 5))  # Output: 1\n"
   ]
  },
  {
   "cell_type": "markdown",
   "id": "6a1a6203-f71f-48e8-b3db-abb50ca4007a",
   "metadata": {},
   "source": [
    "<aside>\n",
    "💡 **Question 6**\n",
    "\n",
    "You are given an integer array `deck`. There is a deck of cards where every card has a unique integer. The integer on the `ith` card is `deck[i]`.\n",
    "\n",
    "You can order the deck in any order you want. Initially, all the cards start face down (unrevealed) in one deck.\n",
    "\n",
    "You will do the following steps repeatedly until all cards are revealed:\n",
    "\n",
    "1. Take the top card of the deck, reveal it, and take it out of the deck.\n",
    "2. If there are still cards in the deck then put the next top card of the deck at the bottom of the deck.\n",
    "3. If there are still unrevealed cards, go back to step 1. Otherwise, stop.\n",
    "\n",
    "Return *an ordering of the deck that would reveal the cards in increasing order*.\n",
    "\n",
    "**Note** that the first entry in the answer is considered to be the top of the deck.\n",
    "\n",
    "</aside>"
   ]
  },
  {
   "cell_type": "code",
   "execution_count": 11,
   "id": "abe1fca0-50b0-4940-9a30-729e6f853b2a",
   "metadata": {},
   "outputs": [],
   "source": [
    "def deckRevealedIncreasing(deck):\n",
    "    deck.sort()  # Step 1\n",
    "    result = []\n",
    "    for card in reversed(deck):  # Step 3\n",
    "        if result:  # Step 4\n",
    "            result.insert(0, result.pop())\n",
    "        result.insert(0, card)\n",
    "    return result\n"
   ]
  },
  {
   "cell_type": "code",
   "execution_count": 10,
   "id": "4a4ca7a6-596f-4020-a1a5-eecde05ae95b",
   "metadata": {},
   "outputs": [
    {
     "name": "stdout",
     "output_type": "stream",
     "text": [
      "[2, 13, 3, 11, 5, 17, 7]\n",
      "[1, 1000]\n"
     ]
    }
   ],
   "source": [
    "print(deckRevealedIncreasing([17, 13, 11, 2, 3, 5, 7]))  # Output: [2, 13, 3, 11, 5, 17, 7]\n",
    "print(deckRevealedIncreasing([1, 1000]))  # Output: [1, 1000]\n"
   ]
  },
  {
   "cell_type": "markdown",
   "id": "53b81d91-cc54-42f8-9448-044aa8446466",
   "metadata": {},
   "source": [
    "<aside>\n",
    "💡 **Question 8**\n",
    "\n",
    "For a stream of integers, implement a data structure that checks if the last `k` integers parsed in the stream are **equal** to `value`.\n",
    "\n",
    "Implement the **DataStream** class:\n",
    "\n",
    "- `DataStream(int value, int k)` Initializes the object with an empty integer stream and the two integers `value` and `k`.\n",
    "- `boolean consec(int num)` Adds `num` to the stream of integers. Returns `true` if the last `k` integers are equal to `value`, and `false` otherwise. If there are less than `k` integers, the condition does not hold true, so returns `false`.\n",
    "</aside>"
   ]
  },
  {
   "cell_type": "markdown",
   "id": "e8354b1a-42ac-4d63-8d14-f70e96d9626d",
   "metadata": {},
   "source": [
    "Input\n",
    "[\"DataStream\", \"consec\", \"consec\", \"consec\", \"consec\"]\n",
    "[[4, 3], [4], [4], [4], [3]]\n",
    "Output\n",
    "[null, false, false, true, false]\n",
    "\n",
    "Explanation\n",
    "DataStream dataStream = new DataStream(4, 3); //value = 4, k = 3\n",
    "dataStream.consec(4); // Only 1 integer is parsed, so returns False.\n",
    "dataStream.consec(4); // Only 2 integers are parsed.\n",
    "                      // Since 2 is less than k, returns False.\n",
    "dataStream.consec(4); // The 3 integers parsed are all equal to value, so returns True.\n",
    "dataStream.consec(3); // The last k integers parsed in the stream are [4,4,3].\n",
    "                      // Since 3 is not equal to value, it returns False."
   ]
  },
  {
   "cell_type": "code",
   "execution_count": null,
   "id": "d3e0487a-13a3-42c5-8b9f-61f91df6f6a8",
   "metadata": {},
   "outputs": [],
   "source": [
    "from collections import deque\n",
    "\n",
    "class DataStream:\n",
    "    def __init__(self, value, k):\n",
    "        self.value = value\n",
    "        self.k = k\n",
    "        self.queue = deque()\n",
    "\n",
    "    def consec(self, num):\n",
    "        self.queue.append(num)\n",
    "        if len(self.queue) < self.k:\n",
    "            return False\n",
    "        elif len(self.queue) == self.k and all(x == self.value for x in self.queue):\n",
    "            return True\n",
    "        else:\n",
    "            self.queue.popleft()\n",
    "            return False\n"
   ]
  },
  {
   "cell_type": "markdown",
   "id": "663b44f7-5f0d-411a-9cdb-8d81ea028bdd",
   "metadata": {},
   "source": [
    "<aside>\n",
    "💡 **Question 8**\n",
    "\n",
    "For a stream of integers, implement a data structure that checks if the last `k` integers parsed in the stream are **equal** to `value`.\n",
    "\n",
    "Implement the **DataStream** class:\n",
    "\n",
    "- `DataStream(int value, int k)` Initializes the object with an empty integer stream and the two integers `value` and `k`.\n",
    "- `boolean consec(int num)` Adds `num` to the stream of integers. Returns `true` if the last `k` integers are equal to `value`, and `false` otherwise. If there are less than `k` integers, the condition does not hold true, so returns `false`.\n",
    "</aside>\n",
    "\n",
    "Input\n",
    "[\"DataStream\", \"consec\", \"consec\", \"consec\", \"consec\"]\n",
    "[[4, 3], [4], [4], [4], [3]]\n",
    "Output\n",
    "[null, false, false, true, false]\n",
    "\n",
    "Explanation\n",
    "DataStream dataStream = new DataStream(4, 3); //value = 4, k = 3\n",
    "dataStream.consec(4); // Only 1 integer is parsed, so returns False.\n",
    "dataStream.consec(4); // Only 2 integers are parsed.\n",
    "                      // Since 2 is less than k, returns False.\n",
    "dataStream.consec(4); // The 3 integers parsed are all equal to value, so returns True.\n",
    "dataStream.consec(3); // The last k integers parsed in the stream are [4,4,3].\n",
    "                      // Since 3 is not equal to value, it returns False."
   ]
  },
  {
   "cell_type": "markdown",
   "id": "29e84042-917c-4c96-bca2-5e34fa2ec5c8",
   "metadata": {},
   "source": [
    "dataStream = DataStream(4, 3)\n",
    "print(dataStream.consec(4))  # False\n",
    "print(dataStream.consec(4))  # False\n",
    "print(dataStream.consec(4))  # True\n",
    "print(dataStream.consec(3))  # False\n"
   ]
  },
  {
   "cell_type": "code",
   "execution_count": null,
   "id": "4b75875f-6fe2-4c02-8691-aa1eebbe6a54",
   "metadata": {},
   "outputs": [],
   "source": []
  }
 ],
 "metadata": {
  "kernelspec": {
   "display_name": "Python 3 (ipykernel)",
   "language": "python",
   "name": "python3"
  },
  "language_info": {
   "codemirror_mode": {
    "name": "ipython",
    "version": 3
   },
   "file_extension": ".py",
   "mimetype": "text/x-python",
   "name": "python",
   "nbconvert_exporter": "python",
   "pygments_lexer": "ipython3",
   "version": "3.10.6"
  }
 },
 "nbformat": 4,
 "nbformat_minor": 5
}
