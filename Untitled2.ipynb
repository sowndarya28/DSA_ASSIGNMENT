{
 "cells": [
  {
   "cell_type": "code",
   "execution_count": 1,
   "id": "ec13144c",
   "metadata": {},
   "outputs": [],
   "source": [
    "def firstUniqChar(s) :\n",
    "        char_freq={}\n",
    "        char_ind={}\n",
    "        t=list(s)\n",
    "        for i,letter in enumerate(s):\n",
    "            if letter in char_freq:\n",
    "                char_freq[letter]+=1\n",
    "            else:\n",
    "                char_freq[letter]=1\n",
    "                char_ind[letter]=i\n",
    "\n",
    "        for letter in s:\n",
    "            if char_freq[letter]==1:\n",
    "                return char_ind[letter]  \n",
    "        return -1  "
   ]
  },
  {
   "cell_type": "code",
   "execution_count": null,
   "id": "f1ace6eb",
   "metadata": {},
   "outputs": [],
   "source": [
    "def moveZeroes(nums):\n",
    "    left = 0\n",
    "    right = 0\n",
    "\n",
    "    while right < len(nums):\n",
    "        if nums[right] != 0:\n",
    "            nums[left], nums[right] = nums[right], nums[left]\n",
    "            left += 1\n",
    "        right += 1\n",
    "\n",
    "    while left < len(nums):\n",
    "        nums[left] = 0\n",
    "        left += 1\n",
    "\n",
    "    return nums\n"
   ]
  }
 ],
 "metadata": {
  "kernelspec": {
   "display_name": "Python 3 (ipykernel)",
   "language": "python",
   "name": "python3"
  },
  "language_info": {
   "codemirror_mode": {
    "name": "ipython",
    "version": 3
   },
   "file_extension": ".py",
   "mimetype": "text/x-python",
   "name": "python",
   "nbconvert_exporter": "python",
   "pygments_lexer": "ipython3",
   "version": "3.10.9"
  }
 },
 "nbformat": 4,
 "nbformat_minor": 5
}
