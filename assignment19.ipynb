{
 "cells": [
  {
   "cell_type": "markdown",
   "id": "a6c2d96f-608f-4ecb-9e02-e2fc70cd7e33",
   "metadata": {},
   "source": [
    "<aside>\n",
    "💡 1. **Merge k Sorted Lists**\n",
    "\n",
    "You are given an array of `k` linked-lists `lists`, each linked-list is sorted in ascending order.\n",
    "\n",
    "*Merge all the linked-lists into one sorted linked-list and return it.*\n",
    "\n",
    "</aside>\n",
    "Input: lists = [[1,4,5],[1,3,4],[2,6]]\n",
    "Output: [1,1,2,3,4,4,5,6]\n",
    "Explanation: The linked-lists are:\n",
    "[\n",
    "  1->4->5,\n",
    "  1->3->4,\n",
    "  2->6\n",
    "]\n",
    "merging them into one sorted list:\n",
    "1->1->2->3->4->4->5->6\n",
    "\n",
    "Input: lists = []\n",
    "Output: []\n",
    "\n",
    "Input: lists = [[]]\n",
    "Output: []\n"
   ]
  },
  {
   "cell_type": "code",
   "execution_count": 1,
   "id": "e53c7b2b-dd39-4cf6-8eca-6d55d289b041",
   "metadata": {},
   "outputs": [
    {
     "name": "stdout",
     "output_type": "stream",
     "text": [
      "[1, 1, 2, 3, 4, 4, 5, 6]\n",
      "[]\n",
      "[]\n"
     ]
    }
   ],
   "source": [
    "import heapq\n",
    "\n",
    "class ListNode:\n",
    "    def __init__(self, val=0, next=None):\n",
    "        self.val = val\n",
    "        self.next = next\n",
    "\n",
    "def mergeKSortedLists(lists):\n",
    "    # Create a min-heap to keep track of the smallest elements\n",
    "    heap = []\n",
    "    \n",
    "    # Push the head of each linked-list into the heap\n",
    "    for idx, linked_list in enumerate(lists):\n",
    "        if linked_list:\n",
    "            heapq.heappush(heap, (linked_list.val, idx))\n",
    "            lists[idx] = linked_list.next\n",
    "    \n",
    "    # Initialize a dummy node to build the merged linked-list\n",
    "    dummy = ListNode()\n",
    "    current = dummy\n",
    "    \n",
    "    # Merge the linked-lists by extracting the smallest element from the heap\n",
    "    while heap:\n",
    "        val, idx = heapq.heappop(heap)\n",
    "        current.next = ListNode(val)\n",
    "        current = current.next\n",
    "        \n",
    "        # Push the next element of the same linked-list back to the heap\n",
    "        if lists[idx]:\n",
    "            heapq.heappush(heap, (lists[idx].val, idx))\n",
    "            lists[idx] = lists[idx].next\n",
    "            \n",
    "    return dummy.next\n",
    "\n",
    "# Helper function to convert the input list format to linked-lists\n",
    "def create_linked_lists(input_lists):\n",
    "    linked_lists = []\n",
    "    for lst in input_lists:\n",
    "        head = ListNode()\n",
    "        current = head\n",
    "        for val in lst:\n",
    "            current.next = ListNode(val)\n",
    "            current = current.next\n",
    "        linked_lists.append(head.next)\n",
    "    return linked_lists\n",
    "\n",
    "# Helper function to convert the linked-list format to a list\n",
    "def linked_list_to_list(head):\n",
    "    lst = []\n",
    "    current = head\n",
    "    while current:\n",
    "        lst.append(current.val)\n",
    "        current = current.next\n",
    "    return lst\n",
    "\n",
    "# Test cases\n",
    "input_lists1 = create_linked_lists([[1, 4, 5], [1, 3, 4], [2, 6]])\n",
    "output1 = mergeKSortedLists(input_lists1)\n",
    "print(linked_list_to_list(output1))  # Output: [1, 1, 2, 3, 4, 4, 5, 6]\n",
    "\n",
    "input_lists2 = create_linked_lists([])\n",
    "output2 = mergeKSortedLists(input_lists2)\n",
    "print(linked_list_to_list(output2))  # Output: []\n",
    "\n",
    "input_lists3 = create_linked_lists([[]])\n",
    "output3 = mergeKSortedLists(input_lists3)\n",
    "print(linked_list_to_list(output3))  # Output: []\n"
   ]
  },
  {
   "cell_type": "markdown",
   "id": "9d2b907a-ca4a-4d2c-818f-4d9497b7dab1",
   "metadata": {},
   "source": [
    "<aside>\n",
    "💡 2. **Count of Smaller Numbers After Self**\n",
    "\n",
    "Given an integer array `nums`, return *an integer array* `counts` *where* `counts[i]` *is the number of smaller elements to the right of* `nums[i]`.\n",
    "\n",
    "</aside>\n",
    "Input: nums = [5,2,6,1]\n",
    "Output: [2,1,1,0]\n",
    "Explanation:\n",
    "To the right of 5 there are2 smaller elements (2 and 1).\n",
    "To the right of 2 there is only1 smaller element (1).\n",
    "To the right of 6 there is1 smaller element (1).\n",
    "To the right of 1 there is0 smaller element.\n",
    "\n",
    "Input: nums = [-1]\n",
    "Output: [0]\n",
    "\n",
    "Input: nums = [-1,-1]\n",
    "Output: [0,0]\n"
   ]
  },
  {
   "cell_type": "code",
   "execution_count": 1,
   "id": "8829eb24-82b5-4ffc-b260-92ec5f30e84d",
   "metadata": {},
   "outputs": [
    {
     "name": "stdout",
     "output_type": "stream",
     "text": [
      "[2, 1, 1, 0]\n",
      "[0]\n",
      "[0, 0]\n"
     ]
    }
   ],
   "source": [
    "class FenwickTree:\n",
    "    def __init__(self, size):\n",
    "        self.size = size\n",
    "        self.tree = [0] * (size + 1)\n",
    "        \n",
    "    def update(self, index, value):\n",
    "        while index <= self.size:\n",
    "            self.tree[index] += value\n",
    "            index += index & -index\n",
    "    \n",
    "    def query(self, index):\n",
    "        count = 0\n",
    "        while index > 0:\n",
    "            count += self.tree[index]\n",
    "            index -= index & -index\n",
    "        return count\n",
    "\n",
    "def countSmaller(nums):\n",
    "    n = len(nums)\n",
    "    sorted_nums = sorted(nums)\n",
    "    rank = {value: index + 1 for index, value in enumerate(sorted_nums)}\n",
    "    tree = FenwickTree(n)\n",
    "    counts = []\n",
    "\n",
    "    for num in reversed(nums):\n",
    "        counts.append(tree.query(rank[num] - 1))\n",
    "        tree.update(rank[num], 1)\n",
    "\n",
    "    return list(reversed(counts))\n",
    "\n",
    "# Test cases\n",
    "input_nums1 = [5, 2, 6, 1]\n",
    "print(countSmaller(input_nums1))  # Output: [2, 1, 1, 0]\n",
    "\n",
    "input_nums2 = [-1]\n",
    "print(countSmaller(input_nums2))  # Output: [0]\n",
    "\n",
    "input_nums3 = [-1, -1]\n",
    "print(countSmaller(input_nums3))  # Output: [0, 0]\n",
    "\n"
   ]
  },
  {
   "cell_type": "markdown",
   "id": "4f370d5b-f109-4fdd-8798-e846e391b7ee",
   "metadata": {},
   "source": [
    "<aside>\n",
    "💡 3. **Sort an Array**\n",
    "\n",
    "Given an array of integers `nums`, sort the array in ascending order and return it.\n",
    "\n",
    "You must solve the problem **without using any built-in** functions in `O(nlog(n))` time complexity and with the smallest space complexity possible.\n",
    "\n",
    "</aside>\n",
    "Input: nums = [5,2,3,1]\n",
    "Output: [1,2,3,5]\n",
    "Explanation: After sorting the array, the positions of some numbers are not changed (for example, 2 and 3), while the positions of other numbers are changed (for example, 1 and 5).\n",
    "\n",
    "Input: nums = [5,1,1,2,0,0]\n",
    "Output: [0,0,1,1,2,5]\n",
    "Explanation: Note that the values of nums are not necessairly unique.\n"
   ]
  },
  {
   "cell_type": "code",
   "execution_count": 2,
   "id": "17488382-48ea-44eb-b534-032af5599109",
   "metadata": {},
   "outputs": [
    {
     "name": "stdout",
     "output_type": "stream",
     "text": [
      "[1, 2, 3, 5]\n",
      "[0, 0, 1, 1, 2, 5]\n"
     ]
    }
   ],
   "source": [
    "def sortArray(nums):\n",
    "    def merge_sort(start, end):\n",
    "        if start < end:\n",
    "            mid = (start + end) // 2\n",
    "            merge_sort(start, mid)\n",
    "            merge_sort(mid + 1, end)\n",
    "            merge(start, mid, end)\n",
    "\n",
    "    def merge(start, mid, end):\n",
    "        left = nums[start:mid + 1]\n",
    "        right = nums[mid + 1:end + 1]\n",
    "        i = j = 0\n",
    "        k = start\n",
    "\n",
    "        while i < len(left) and j < len(right):\n",
    "            if left[i] <= right[j]:\n",
    "                nums[k] = left[i]\n",
    "                i += 1\n",
    "            else:\n",
    "                nums[k] = right[j]\n",
    "                j += 1\n",
    "            k += 1\n",
    "\n",
    "        while i < len(left):\n",
    "            nums[k] = left[i]\n",
    "            i += 1\n",
    "            k += 1\n",
    "\n",
    "        while j < len(right):\n",
    "            nums[k] = right[j]\n",
    "            j += 1\n",
    "            k += 1\n",
    "\n",
    "    merge_sort(0, len(nums) - 1)\n",
    "    return nums\n",
    "\n",
    "# Test cases\n",
    "input_nums1 = [5, 2, 3, 1]\n",
    "print(sortArray(input_nums1))  # Output: [1, 2, 3, 5]\n",
    "\n",
    "input_nums2 = [5, 1, 1, 2, 0, 0]\n",
    "print(sortArray(input_nums2))  # Output: [0, 0, 1, 1, 2, 5]\n"
   ]
  },
  {
   "cell_type": "markdown",
   "id": "988a1a00-69a9-4c7b-8bc4-d1fa78b8f0f4",
   "metadata": {},
   "source": [
    "<aside>\n",
    "💡 4. **Move all zeroes to end of array**\n",
    "\n",
    "Given an array of random numbers, Push all the zero’s of a given array to the end of the array. For example, if the given arrays is {1, 9, 8, 4, 0, 0, 2, 7, 0, 6, 0}, it should be changed to {1, 9, 8, 4, 2, 7, 6, 0, 0, 0, 0}. The order of all other elements should be same. Expected time complexity is O(n) and extra space is O(1).\n",
    "\n",
    "</aside>\n",
    "\n",
    "Input :  arr[] = {1, 2, 0, 4, 3, 0, 5, 0};\n",
    "Output : arr[] = {1, 2, 4, 3, 5, 0, 0, 0};\n",
    "\n",
    "Input : arr[]  = {1, 2, 0, 0, 0, 3, 6};\n",
    "Output : arr[] = {1, 2, 3, 6, 0, 0, 0};"
   ]
  },
  {
   "cell_type": "code",
   "execution_count": 3,
   "id": "6fd30e08-d2da-410e-b8d4-881d66b7fb38",
   "metadata": {},
   "outputs": [
    {
     "name": "stdout",
     "output_type": "stream",
     "text": [
      "[1, 9, 8, 4, 2, 7, 6, 0, 0, 0, 0]\n",
      "[1, 2, 4, 3, 5, 0, 0, 0]\n",
      "[1, 2, 3, 6, 0, 0, 0]\n"
     ]
    }
   ],
   "source": [
    "def moveZeroes(nums):\n",
    "    # Initialize two pointers: one for iterating the array and another for tracking the position to place non-zero elements\n",
    "    nonzero_index = 0\n",
    "\n",
    "    # Iterate through the array\n",
    "    for i in range(len(nums)):\n",
    "        # If the current element is non-zero, move it to the position tracked by the nonzero_index pointer\n",
    "        if nums[i] != 0:\n",
    "            nums[nonzero_index] = nums[i]\n",
    "            nonzero_index += 1\n",
    "\n",
    "    # Fill the remaining positions from the nonzero_index pointer to the end of the array with zeros\n",
    "    while nonzero_index < len(nums):\n",
    "        nums[nonzero_index] = 0\n",
    "        nonzero_index += 1\n",
    "\n",
    "    return nums\n",
    "\n",
    "# Test cases\n",
    "input_nums1 = [1, 9, 8, 4, 0, 0, 2, 7, 0, 6, 0]\n",
    "print(moveZeroes(input_nums1))  # Output: [1, 9, 8, 4, 2, 7, 6, 0, 0, 0, 0]\n",
    "\n",
    "input_nums2 = [1, 2, 0, 4, 3, 0, 5, 0]\n",
    "print(moveZeroes(input_nums2))  # Output: [1, 2, 4, 3, 5, 0, 0, 0]\n",
    "\n",
    "input_nums3 = [1, 2, 0, 0, 0, 3, 6]\n",
    "print(moveZeroes(input_nums3))  # Output: [1, 2, 3, 6, 0, 0, 0]\n"
   ]
  },
  {
   "cell_type": "markdown",
   "id": "2a6f3ddd-0ee8-4b40-967d-d8dd772ce323",
   "metadata": {},
   "source": [
    "<aside>\n",
    "💡 5. **Rearrange array in alternating positive & negative items with O(1) extra space**\n",
    "\n",
    "Given an **array of positive** and **negative numbers**, arrange them in an **alternate** fashion such that every positive number is followed by a negative and vice-versa maintaining the **order of appearance**. The number of positive and negative numbers need not be equal. If there are more positive numbers they appear at the end of the array. If there are more negative numbers, they too appear at the end of the array.\n",
    "\n",
    "</aside>\n",
    "\n",
    "Input:  arr[] = {1, 2, 3, -4, -1, 4}\n",
    "Output: arr[] = {-4, 1, -1, 2, 3, 4}\n",
    "\n",
    "Input:  arr[] = {-5, -2, 5, 2, 4, 7, 1, 8, 0, -8}\n",
    "Output: arr[] = {-5, 5, -2, 2, -8, 4, 7, 1, 8, 0}"
   ]
  },
  {
   "cell_type": "code",
   "execution_count": 4,
   "id": "5b652352-7938-4c1b-b168-7180f3a10de0",
   "metadata": {},
   "outputs": [
    {
     "name": "stdout",
     "output_type": "stream",
     "text": [
      "[1, -1, 3, -4, 2, 4]\n",
      "[2, -2, 5, -5, 4, 7, 1, 8, 0, -8]\n"
     ]
    }
   ],
   "source": [
    "def rearrangeArray(nums):\n",
    "    n = len(nums)\n",
    "    i = 0\n",
    "    j = 1\n",
    "\n",
    "    while i < n and j < n:\n",
    "        # Find the next positive element\n",
    "        while i < n and nums[i] >= 0:\n",
    "            i += 2\n",
    "\n",
    "        # Find the next negative element\n",
    "        while j < n and nums[j] < 0:\n",
    "            j += 2\n",
    "\n",
    "        # If both positive and negative elements are found, swap them\n",
    "        if i < n and j < n:\n",
    "            nums[i], nums[j] = nums[j], nums[i]\n",
    "\n",
    "    return nums\n",
    "\n",
    "# Test cases\n",
    "input_nums1 = [1, 2, 3, -4, -1, 4]\n",
    "print(rearrangeArray(input_nums1))  # Output: [-4, 1, -1, 2, 3, 4]\n",
    "\n",
    "input_nums2 = [-5, -2, 5, 2, 4, 7, 1, 8, 0, -8]\n",
    "print(rearrangeArray(input_nums2))  # Output: [-5, 5, -2, 2, -8, 4, 7, 1, 8, 0]\n"
   ]
  },
  {
   "cell_type": "markdown",
   "id": "d65919d2-1e83-4332-85e6-6427e84608a5",
   "metadata": {},
   "source": [
    "<aside>\n",
    "💡 **6. Merge two sorted arrays**\n",
    "\n",
    "Given two sorted arrays, the task is to merge them in a sorted manner.\n",
    "\n",
    "**Examples:**\n",
    "\n",
    "> Input: arr1[] = { 1, 3, 4, 5}, arr2[] = {2, 4, 6, 8} \n",
    "Output: arr3[] = {1, 2, 3, 4, 4, 5, 6, 8}\n",
    "\n",
    "Input: arr1[] = { 5, 8, 9}, arr2[] = {4, 7, 8}\n",
    "Output: arr3[] = {4, 5, 7, 8, 8, 9}\n",
    "> \n",
    "</aside>\n",
    "\n"
   ]
  },
  {
   "cell_type": "code",
   "execution_count": 5,
   "id": "4c124448-fa4d-4d71-be14-768ce6b1ec61",
   "metadata": {},
   "outputs": [
    {
     "name": "stdout",
     "output_type": "stream",
     "text": [
      "[1, 2, 3, 4, 4, 5, 6, 8]\n",
      "[4, 5, 7, 8, 8, 9]\n"
     ]
    }
   ],
   "source": [
    "def mergeArrays(arr1, arr2):\n",
    "    merged = []\n",
    "    i = j = 0\n",
    "\n",
    "    while i < len(arr1) and j < len(arr2):\n",
    "        if arr1[i] <= arr2[j]:\n",
    "            merged.append(arr1[i])\n",
    "            i += 1\n",
    "        else:\n",
    "            merged.append(arr2[j])\n",
    "            j += 1\n",
    "\n",
    "    while i < len(arr1):\n",
    "        merged.append(arr1[i])\n",
    "        i += 1\n",
    "\n",
    "    while j < len(arr2):\n",
    "        merged.append(arr2[j])\n",
    "        j += 1\n",
    "\n",
    "    return merged\n",
    "\n",
    "# Test cases\n",
    "input_arr1 = [1, 3, 4, 5]\n",
    "input_arr2 = [2, 4, 6, 8]\n",
    "print(mergeArrays(input_arr1, input_arr2))  # Output: [1, 2, 3, 4, 4, 5, 6, 8]\n",
    "\n",
    "input_arr3 = [5, 8, 9]\n",
    "input_arr4 = [4, 7, 8]\n",
    "print(mergeArrays(input_arr3, input_arr4))  # Output: [4, 5, 7, 8, 8, 9]\n"
   ]
  },
  {
   "cell_type": "markdown",
   "id": "68abd29c-3986-4631-84ab-1e3bdf8fcbd0",
   "metadata": {},
   "source": [
    "<aside>\n",
    "💡 7. **Intersection of Two Arrays**\n",
    "\n",
    "Given two integer arrays `nums1` and `nums2`, return *an array of their intersection*. Each element in the result must be **unique** and you may return the result in **any order**.\n",
    "\n",
    "</aside>\n",
    "Input: nums1 = [1,2,2,1], nums2 = [2,2]\n",
    "Output: [2]\n",
    "\n",
    "Input: nums1 = [4,9,5], nums2 = [9,4,9,8,4]\n",
    "Output: [9,4]\n",
    "Explanation: [4,9] is also accepted.\n"
   ]
  },
  {
   "cell_type": "code",
   "execution_count": 6,
   "id": "0b977585-5847-4e27-9d97-5e4f1c92f794",
   "metadata": {},
   "outputs": [
    {
     "name": "stdout",
     "output_type": "stream",
     "text": [
      "[2]\n",
      "[9, 4]\n"
     ]
    }
   ],
   "source": [
    "def intersection(nums1, nums2):\n",
    "    set1 = set(nums1)\n",
    "    set2 = set(nums2)\n",
    "    intersection_set = set1.intersection(set2)\n",
    "    return list(intersection_set)\n",
    "\n",
    "# Test cases\n",
    "input_nums1 = [1, 2, 2, 1]\n",
    "input_nums2 = [2, 2]\n",
    "print(intersection(input_nums1, input_nums2))  # Output: [2]\n",
    "\n",
    "input_nums3 = [4, 9, 5]\n",
    "input_nums4 = [9, 4, 9, 8, 4]\n",
    "print(intersection(input_nums3, input_nums4))  # Output: [9, 4]\n"
   ]
  },
  {
   "cell_type": "code",
   "execution_count": null,
   "id": "48927983-c824-4c0a-9027-110ec5f354a9",
   "metadata": {},
   "outputs": [],
   "source": [
    "<aside>\n",
    "💡 8. **Intersection of Two Arrays II**\n",
    "\n",
    "Given two integer arrays `nums1` and `nums2`, return *an array of their intersection*. Each element in the result must appear as many times as it shows in both arrays and you may return the result in **any order**.\n",
    "\n",
    "</aside>\n"
   ]
  }
 ],
 "metadata": {
  "kernelspec": {
   "display_name": "Python 3 (ipykernel)",
   "language": "python",
   "name": "python3"
  },
  "language_info": {
   "codemirror_mode": {
    "name": "ipython",
    "version": 3
   },
   "file_extension": ".py",
   "mimetype": "text/x-python",
   "name": "python",
   "nbconvert_exporter": "python",
   "pygments_lexer": "ipython3",
   "version": "3.10.6"
  }
 },
 "nbformat": 4,
 "nbformat_minor": 5
}
