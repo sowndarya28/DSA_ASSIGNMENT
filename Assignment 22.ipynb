{
 "cells": [
  {
   "cell_type": "markdown",
   "id": "f6401bde",
   "metadata": {},
   "source": [
    "A Given a binary tree, the task is to flip the binary tree towards the right direction that is clockwise. See the below examples to see the transformation.\n",
    "\n",
    "In the flip operation, the leftmost node becomes the root of the flipped tree and its parent becomes its right child and the right sibling becomes its left child and the same should be done for all left most nodes recursively."
   ]
  },
  {
   "cell_type": "code",
   "execution_count": 3,
   "id": "e8e47670",
   "metadata": {},
   "outputs": [
    {
     "name": "stdout",
     "output_type": "stream",
     "text": [
      "3 1 5 2 4 "
     ]
    }
   ],
   "source": [
    "class Node:\n",
    "    def __init__(self, data):\n",
    "        self.data = data\n",
    "        self.left = None\n",
    "        self.right = None\n",
    "\n",
    "def flip_binary_tree(root):\n",
    "    if root is None:\n",
    "        return None\n",
    "\n",
    "    # Swap the left and right children of the current node\n",
    "    root.left, root.right = root.right, root.left\n",
    "\n",
    "    # Recursively flip the left and right subtrees\n",
    "    flip_binary_tree(root.left)\n",
    "    flip_binary_tree(root.right)\n",
    "\n",
    "    return root\n",
    "\n",
    "def inorder_traversal(root):\n",
    "    if root is None:\n",
    "        return\n",
    "\n",
    "    inorder_traversal(root.left)\n",
    "    print(root.data, end=\" \")\n",
    "    inorder_traversal(root.right)\n",
    "\n",
    "# Example usage\n",
    "# Creating a sample binary tree\n",
    "root = Node(1)\n",
    "root.left = Node(2)\n",
    "root.right = Node(3)\n",
    "root.left.left = Node(4)\n",
    "root.left.right = Node(5)\n",
    "\n",
    "# Flipping the binary tree\n",
    "flipped_tree = flip_binary_tree(root)\n",
    "\n",
    "# Printing the inorder traversal of the flipped tree\n",
    "inorder_traversal(flipped_tree)\n"
   ]
  },
  {
   "cell_type": "markdown",
   "id": "572c5b56",
   "metadata": {},
   "source": [
    "<aside>\n",
    "💡 Question-3:\n",
    "\n",
    "Given a binary tree, print all its root-to-leaf paths without using recursion. For example, consider the following Binary Tree.\n",
    "\n",
    "Input:\n",
    "\n",
    "        6\n",
    "     /    \\\n",
    "    3      5\n",
    "  /   \\     \\\n",
    " 2     5     4\n",
    "     /   \\\n",
    "    7     4\n",
    "\n",
    "Output:\n",
    "\n",
    "There are 4 leaves, hence 4 root to leaf paths -\n",
    "  6->3->2\n",
    "  6->3->5->7\n",
    "  6->3->5->4\n",
    "  6->5>4\n",
    "\n",
    "</aside>"
   ]
  },
  {
   "cell_type": "code",
   "execution_count": 4,
   "id": "f92e4429",
   "metadata": {},
   "outputs": [
    {
     "name": "stdout",
     "output_type": "stream",
     "text": [
      "6->3->2\n",
      "6->3->5->7\n",
      "6->3->5->4\n",
      "6->5->4\n"
     ]
    }
   ],
   "source": [
    "class Node:\n",
    "    def __init__(self, data):\n",
    "        self.data = data\n",
    "        self.left = None\n",
    "        self.right = None\n",
    "\n",
    "def print_root_to_leaf_paths(root):\n",
    "    if root is None:\n",
    "        return\n",
    "    \n",
    "    stack = [(root, str(root.data))]\n",
    "    \n",
    "    while stack:\n",
    "        node, path = stack.pop()\n",
    "        \n",
    "        if node.left is None and node.right is None:\n",
    "            print(path)\n",
    "        \n",
    "        if node.right:\n",
    "            stack.append((node.right, path + \"->\" + str(node.right.data)))\n",
    "        \n",
    "        if node.left:\n",
    "            stack.append((node.left, path + \"->\" + str(node.left.data)))\n",
    "\n",
    "# Example usage\n",
    "# Creating a sample binary tree\n",
    "root = Node(6)\n",
    "root.left = Node(3)\n",
    "root.right = Node(5)\n",
    "root.left.left = Node(2)\n",
    "root.left.right = Node(5)\n",
    "root.right.right = Node(4)\n",
    "root.left.right.left = Node(7)\n",
    "root.left.right.right = Node(4)\n",
    "\n",
    "# Printing all root-to-leaf paths\n",
    "print_root_to_leaf_paths(root)\n"
   ]
  },
  {
   "cell_type": "markdown",
   "id": "3648e572",
   "metadata": {},
   "source": [
    "<aside>\n",
    "💡 Question-4:\n",
    "\n",
    "Given Preorder, Inorder and Postorder traversals of some tree. Write a program to check if they all are of the same tree.\n",
    "\n",
    "**Examples:**\n",
    "\n",
    "Input : \n",
    "\n",
    "        Inorder -> 4 2 5 1 3\n",
    "        Preorder -> 1 2 4 5 3\n",
    "        Postorder -> 4 5 2 3 1\n",
    "Output : \n",
    "\n",
    "Yes\n",
    "Explanation : \n",
    "\n",
    "All of the above three traversals are of\n",
    "the same tree \n",
    "\n",
    "                           1\n",
    "                         /   \\\n",
    "                        2     3\n",
    "                      /   \\\n",
    "                     4     5\n",
    "\n",
    "Input : \n",
    "\n",
    "        Inorder -> 4 2 5 1 3\n",
    "        Preorder -> 1 5 4 2 3\n",
    "        Postorder -> 4 1 2 3 5\n",
    "Output : \n",
    "\n",
    "No\n",
    "\n",
    "</aside>"
   ]
  },
  {
   "cell_type": "code",
   "execution_count": 6,
   "id": "380ef257",
   "metadata": {},
   "outputs": [
    {
     "name": "stdout",
     "output_type": "stream",
     "text": [
      "Yes\n"
     ]
    }
   ],
   "source": [
    "def is_same_tree(inorder, preorder, postorder):\n",
    "    if len(inorder) == 0 and len(preorder) == 0 and len(postorder) == 0:\n",
    "        return True\n",
    "    \n",
    "    if len(inorder) != len(preorder) or len(inorder) != len(postorder):\n",
    "        return False\n",
    "    \n",
    "    if set(inorder) != set(preorder) or set(inorder) != set(postorder):\n",
    "        return False\n",
    "    \n",
    "    if len(inorder) == 1 and len(preorder) == 1 and len(postorder) == 1:\n",
    "        return inorder[0] == preorder[0] and inorder[0] == postorder[0]\n",
    "    \n",
    "    root = preorder[0]\n",
    "    root_index = inorder.index(root)\n",
    "    \n",
    "    left_inorder = inorder[:root_index]\n",
    "    right_inorder = inorder[root_index+1:]\n",
    "    \n",
    "    left_preorder = preorder[1:1+len(left_inorder)]\n",
    "    right_preorder = preorder[1+len(left_inorder):]\n",
    "    \n",
    "    left_postorder = postorder[:len(left_inorder)]\n",
    "    right_postorder = postorder[len(left_inorder):-1]\n",
    "    \n",
    "    return (is_same_tree(left_inorder, left_preorder, left_postorder) and\n",
    "            is_same_tree(right_inorder, right_preorder, right_postorder))\n",
    "\n",
    "# Example usage\n",
    "inorder = [4, 2, 5, 1, 3]\n",
    "preorder = [1, 2, 4, 5, 3]\n",
    "postorder = [4, 5, 2, 3, 1]\n",
    "if is_same_tree(inorder, preorder, postorder):\n",
    "    print(\"Yes\")\n",
    "else:\n",
    "    print(\"No\")\n"
   ]
  },
  {
   "cell_type": "code",
   "execution_count": null,
   "id": "c896a9e0",
   "metadata": {},
   "outputs": [],
   "source": []
  }
 ],
 "metadata": {
  "kernelspec": {
   "display_name": "Python 3 (ipykernel)",
   "language": "python",
   "name": "python3"
  },
  "language_info": {
   "codemirror_mode": {
    "name": "ipython",
    "version": 3
   },
   "file_extension": ".py",
   "mimetype": "text/x-python",
   "name": "python",
   "nbconvert_exporter": "python",
   "pygments_lexer": "ipython3",
   "version": "3.10.9"
  }
 },
 "nbformat": 4,
 "nbformat_minor": 5
}
