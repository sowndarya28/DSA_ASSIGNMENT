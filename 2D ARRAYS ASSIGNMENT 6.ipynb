{
 "cells": [
  {
   "cell_type": "markdown",
   "id": "87ff6dcc",
   "metadata": {},
   "source": [
    "<aside>\n",
    "💡 **Question 1**\n",
    "\n",
    "A permutation perm of n + 1 integers of all the integers in the range [0, n] can be represented as a string s of length n where:\n",
    "\n",
    "- s[i] == 'I' if perm[i] < perm[i + 1], and\n",
    "- s[i] == 'D' if perm[i] > perm[i + 1].\n",
    "\n",
    "Given a string s, reconstruct the permutation perm and return it. If there are multiple valid permutations perm, return **any of them**.\n",
    "\n",
    "**Example 1:**\n",
    "\n",
    "**Input:** s = \"IDID\"\n",
    "\n",
    "**Output:**\n",
    "\n",
    "[0,4,1,3,2]\n",
    "\n",
    "</aside>"
   ]
  },
  {
   "cell_type": "code",
   "execution_count": 7,
   "id": "61416183",
   "metadata": {},
   "outputs": [
    {
     "data": {
      "text/plain": [
       "[0, 4, 1, 3, 2]"
      ]
     },
     "execution_count": 7,
     "metadata": {},
     "output_type": "execute_result"
    }
   ],
   "source": [
    "def reconstructPermutation(s):\n",
    "    perm = []\n",
    "    n = len(s)\n",
    "    low, high = 0, n\n",
    "\n",
    "    for ch in s:\n",
    "        if ch == 'I':\n",
    "            perm.append(low)\n",
    "            low += 1\n",
    "        elif ch == 'D':\n",
    "            perm.append(high)\n",
    "            high -= 1\n",
    "\n",
    "    perm.append(low)  # or perm.append(high)\n",
    "\n",
    "    return perm\n",
    "reconstructPermutation(\"IDID\")"
   ]
  },
  {
   "cell_type": "markdown",
   "id": "8530bbd5",
   "metadata": {},
   "source": [
    "<aside>\n",
    "💡 **Question 2**\n",
    "\n",
    "You are given an m x n integer matrix matrix with the following two properties:\n",
    "\n",
    "- Each row is sorted in non-decreasing order.\n",
    "- The first integer of each row is greater than the last integer of the previous row.\n",
    "\n",
    "Given an integer target, return true *if* target *is in* matrix *or* false *otherwise*.\n",
    "\n",
    "You must write a solution in O(log(m * n)) time complexity.\n",
    "\n",
    "</aside>"
   ]
  },
  {
   "cell_type": "code",
   "execution_count": 11,
   "id": "fba68832",
   "metadata": {},
   "outputs": [
    {
     "data": {
      "text/plain": [
       "True"
      ]
     },
     "execution_count": 11,
     "metadata": {},
     "output_type": "execute_result"
    }
   ],
   "source": [
    "def searchMatrix(matrix, target):\n",
    "    m = len(matrix)\n",
    "    n = len(matrix[0])\n",
    "\n",
    "    left = 0\n",
    "    right = m * n - 1\n",
    "\n",
    "    while left <= right:\n",
    "        mid = (left + right) // 2\n",
    "        row = mid // n\n",
    "        col = mid % n\n",
    "        value = matrix[row][col]\n",
    "\n",
    "        if value == target:\n",
    "            return True\n",
    "        elif value < target:\n",
    "            left = mid + 1\n",
    "        else:\n",
    "            right = mid - 1\n",
    "\n",
    "    return False\n",
    "searchMatrix([[1,3,5,7],[10,11,16,20],[23,30,34,60]],3)"
   ]
  },
  {
   "cell_type": "markdown",
   "id": "7598adc5",
   "metadata": {},
   "source": [
    "<aside>\n",
    "💡 **Question 3**\n",
    "\n",
    "Given an array of integers arr, return *true if and only if it is a valid mountain array*.\n",
    "\n",
    "Recall that arr is a mountain array if and only if:\n",
    "\n",
    "- arr.length >= 3\n",
    "- There exists some i with 0 < i < arr.length - 1 such that:\n",
    "    - arr[0] < arr[1] < ... < arr[i - 1] < arr[i]\n",
    "    - arr[i] > arr[i + 1] > ... > arr[arr.length - 1]\n",
    "</aside>"
   ]
  },
  {
   "cell_type": "code",
   "execution_count": 17,
   "id": "974fc455",
   "metadata": {},
   "outputs": [
    {
     "data": {
      "text/plain": [
       "False"
      ]
     },
     "execution_count": 17,
     "metadata": {},
     "output_type": "execute_result"
    }
   ],
   "source": [
    "def validMountainArray( A) -> bool:\n",
    "            if not A:\n",
    "                return False\n",
    "            p1=0\n",
    "            p2=len(A)-1\n",
    "            peak=max(A)\n",
    "            peakAt=A.index(peak) #index complexity O(n)\n",
    "\n",
    "            if peakAt==p2 or peakAt==p1: #peak cant be first or last\n",
    "                return False\n",
    "\n",
    "            while p1<peakAt: #making sure going up is OK\n",
    "                if A[p1] >=A[p1+1]:\n",
    "                    return False\n",
    "                p1+=1 \n",
    "\n",
    "            while p2>peakAt: #making sure going down is OK\n",
    "                if A[p2]>=A[p2-1]:\n",
    "                    return False\n",
    "                p2-=1   \n",
    "\n",
    "            return True  \n",
    "validMountainArray([2,3,4,5,4,3,2] )        "
   ]
  },
  {
   "cell_type": "markdown",
   "id": "431a2e07",
   "metadata": {},
   "source": [
    "<aside>\n",
    "💡 **Question 4**\n",
    "\n",
    "Given a binary array nums, return *the maximum length of a contiguous subarray with an equal number of* 0 *and* 1.\n",
    "\n",
    "**Example 1:**\n",
    "\n",
    "**Input:** nums = [0,1]\n",
    "\n",
    "**Output:** 2\n",
    "\n",
    "**Explanation:**\n",
    "\n",
    "[0, 1] is the longest contiguous subarray with an equal number of 0 and 1.\n",
    "\n",
    "</aside>"
   ]
  },
  {
   "cell_type": "code",
   "execution_count": null,
   "id": "70db026d",
   "metadata": {},
   "outputs": [],
   "source": [
    "def findMaxLength(self, nums: List[int]) -> int:\n",
    "        dic = {0:-1}                                # dic record: count(the times we met 1 - the time we met 0) : idx\n",
    "        count = 0                                   # lets say count == 3, it means until this idx, if 0 appeared x time, 1 appeared x+3 time\n",
    "        res = 0                                     # So, once count == 3 appears at the other position again,\n",
    "        \n",
    "        for i in range(len(nums)):                  # let's say 0 appeared y time, 1 appeared y+3 time\n",
    "            if nums[i] == 0:                        # So for the interval between these two idx, 0 and 1 both appear (y-x) time!\n",
    "                count -= 1\n",
    "            if nums[i] == 1:\n",
    "                count += 1\n",
    "            \n",
    "            if count in dic:                        # Same count indicate that the interval between these tow idx have same amount 0 and 1.\n",
    "                res = max(res, i - dic[count])\n",
    "            else:                                   # Otherwise, we record the idx of the count when first time we met it.\n",
    "                dic[count] = i\n",
    "        \n",
    "        return res\n"
   ]
  },
  {
   "cell_type": "markdown",
   "id": "ed41b14d",
   "metadata": {},
   "source": [
    "<aside>\n",
    "💡 **Question 6**\n",
    "\n",
    "An integer array original is transformed into a **doubled** array changed by appending **twice the value** of every element in original, and then randomly **shuffling** the resulting array.\n",
    "\n",
    "Given an array changed, return original *if* changed *is a **doubled** array. If* changed *is not a **doubled** array, return an empty array. The elements in* original *may be returned in **any** order*.\n",
    "\n",
    "**Example 1:**\n",
    "\n",
    "**Input:** changed = [1,3,4,2,6,8]\n",
    "\n",
    "**Output:** [1,3,4]\n",
    "\n",
    "**Explanation:** One possible original array could be [1,3,4]:\n",
    "\n",
    "- Twice the value of 1 is 1 * 2 = 2.\n",
    "- Twice the value of 3 is 3 * 2 = 6.\n",
    "- Twice the value of 4 is 4 * 2 = 8.\n",
    "\n",
    "Other original arrays could be [4,3,1] or [3,1,4].\n",
    "\n",
    "</aside>"
   ]
  },
  {
   "cell_type": "code",
   "execution_count": 18,
   "id": "0940234c",
   "metadata": {},
   "outputs": [
    {
     "data": {
      "text/plain": [
       "[1, 3, 4]"
      ]
     },
     "execution_count": 18,
     "metadata": {},
     "output_type": "execute_result"
    }
   ],
   "source": [
    "from collections import Counter\n",
    "\n",
    "def findOriginalArray(changed):\n",
    "    freq = Counter(changed)\n",
    "\n",
    "    original = []\n",
    "    changed.sort()\n",
    "\n",
    "    for num in changed:\n",
    "        if freq[num] > 0 and freq[num*2] > 0:\n",
    "            original.append(num)\n",
    "            freq[num] -= 1\n",
    "            freq[num*2] -= 1\n",
    "\n",
    "    if len(original) != len(changed) // 2:\n",
    "        return []\n",
    "\n",
    "    return original\n",
    "findOriginalArray([1,3,4,2,6,8])"
   ]
  },
  {
   "cell_type": "markdown",
   "id": "57fde568",
   "metadata": {},
   "source": [
    "<aside>\n",
    "💡 **Question 7**\n",
    "\n",
    "Given a positive integer n, generate an n x n matrix filled with elements from 1 to n2 in spiral order\n",
    "\n",
    "</aside>"
   ]
  },
  {
   "cell_type": "code",
   "execution_count": 5,
   "id": "f6ea6a65",
   "metadata": {},
   "outputs": [
    {
     "data": {
      "text/plain": [
       "[1, 2, 3, 6, 9, 8, 7, 4, 5]"
      ]
     },
     "execution_count": 5,
     "metadata": {},
     "output_type": "execute_result"
    }
   ],
   "source": [
    "def spiralOrder(matrix):\n",
    "    result = []\n",
    "    rows = len(matrix)\n",
    "    columns = len(matrix[0])\n",
    "    up = 0\n",
    "    left = 0\n",
    "    right = columns - 1\n",
    "    down = rows - 1\n",
    " \n",
    "    while len(result) < rows * columns:\n",
    "        # Traverse from left to right.\n",
    "        for col in range(left, right + 1):\n",
    "            result.append(matrix[up][col])\n",
    "        # Traverse downwards.\n",
    "        for row in range(up + 1, down + 1):\n",
    "            result.append(matrix[row][right])\n",
    "        # Make sure we are now on a different row.\n",
    "        if up != down:\n",
    "            # Traverse from right to left.\n",
    "            for col in range(right - 1, left - 1, -1):\n",
    "                result.append(matrix[down][col])\n",
    "        # Make sure we are now on a different column.\n",
    "        if left != right:\n",
    "            # Traverse upwards.\n",
    "            for row in range(down - 1, up, -1):\n",
    "                result.append(matrix[row][left])\n",
    "        left += 1\n",
    "        right -= 1\n",
    "        up += 1\n",
    "        down -= 1\n",
    " \n",
    "    return result\n",
    "spiralOrder([[1,2,3],[4,5,6],[7,8,9]])"
   ]
  },
  {
   "cell_type": "markdown",
   "id": "a2f69016",
   "metadata": {},
   "source": [
    "<aside>\n",
    "💡 **Question 8**\n",
    "\n",
    "Given two [sparse matrices](https://en.wikipedia.org/wiki/Sparse_matrix) mat1 of size m x k and mat2 of size k x n, return the result of mat1 x mat2. You may assume that multiplication is always possible.\n",
    "\n",
    "</aside>"
   ]
  },
  {
   "cell_type": "code",
   "execution_count": 19,
   "id": "d7a2f1bf",
   "metadata": {},
   "outputs": [],
   "source": [
    "def multiplySparseMatrices(mat1, mat2):\n",
    "    m, k = len(mat1), len(mat1[0])\n",
    "    n = len(mat2[0])\n",
    "\n",
    "    result = {}\n",
    "\n",
    "    for i in range(m):\n",
    "        for j in range(n):\n",
    "            for key in mat1[i]:\n",
    "                if key in mat2 and j in mat2[key]:\n",
    "                    if i not in result:\n",
    "                        result[i] = {}\n",
    "                    result[i][j] = result[i].get(j, 0) + (mat1[i][key] * mat2[key][j])\n",
    "\n",
    "    return result\n"
   ]
  },
  {
   "cell_type": "code",
   "execution_count": null,
   "id": "ec9f981c",
   "metadata": {},
   "outputs": [],
   "source": []
  }
 ],
 "metadata": {
  "kernelspec": {
   "display_name": "Python 3 (ipykernel)",
   "language": "python",
   "name": "python3"
  },
  "language_info": {
   "codemirror_mode": {
    "name": "ipython",
    "version": 3
   },
   "file_extension": ".py",
   "mimetype": "text/x-python",
   "name": "python",
   "nbconvert_exporter": "python",
   "pygments_lexer": "ipython3",
   "version": "3.10.9"
  }
 },
 "nbformat": 4,
 "nbformat_minor": 5
}
